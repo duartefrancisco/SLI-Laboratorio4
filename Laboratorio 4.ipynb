{
 "cells": [
  {
   "cell_type": "markdown",
   "id": "1bf94c5c-26a6-4c74-9cb5-b550ed087cf3",
   "metadata": {},
   "source": [
    "# Laboratorio 4 - Statistical Learning I - Universidad Galileo"
   ]
  },
  {
   "cell_type": "markdown",
   "id": "0744d50a-2544-43a5-8e86-1a742bdaf005",
   "metadata": {},
   "source": [
    "#### Importación de librerías"
   ]
  },
  {
   "cell_type": "code",
   "execution_count": 65,
   "id": "30502124-1c29-466b-9733-f1b5c35e8850",
   "metadata": {},
   "outputs": [],
   "source": [
    "import pandas as pd\n",
    "import numpy as np\n",
    "import matplotlib.pyplot as plt\n",
    "import seaborn as sns\n",
    "import scipy.stats as stats\n",
    "from sklearn.preprocessing import StandardScaler"
   ]
  },
  {
   "cell_type": "markdown",
   "id": "dc1f56b3-6831-4a7c-881f-43b32f1d7740",
   "metadata": {},
   "source": [
    "#### Importación de dataset"
   ]
  },
  {
   "cell_type": "code",
   "execution_count": 80,
   "id": "a684f9ce-9b12-4c15-99bd-02959adf58b2",
   "metadata": {},
   "outputs": [],
   "source": [
    "dataset = pd.read_csv('train_HP.csv')"
   ]
  },
  {
   "cell_type": "markdown",
   "id": "b7a14156-11c2-4b82-abf7-cb5a45deba33",
   "metadata": {},
   "source": [
    "#### Funciones necesarias"
   ]
  },
  {
   "cell_type": "code",
   "execution_count": 6,
   "id": "a4692e19-b36f-4fe2-a105-1f07b09a6f93",
   "metadata": {},
   "outputs": [],
   "source": [
    "def GetNanColumnsNames(df):\n",
    "    colnames = df.columns\n",
    "    cols_con_na = []\n",
    "    for col in colnames:\n",
    "        if(df[col].isnull().sum() > 0):\n",
    "            cols_con_na.append(col)\n",
    "    return cols_con_na"
   ]
  },
  {
   "cell_type": "code",
   "execution_count": 7,
   "id": "5cbb3582-7214-4f05-8c53-82e4d2344860",
   "metadata": {},
   "outputs": [],
   "source": [
    "def GetNanGoodColumnsNames(df, rate = 0.2):\n",
    "    cols_procesables = []\n",
    "    for col in df.columns:\n",
    "        if((df[col].isnull().mean() < rate)):\n",
    "            cols_procesables.append(col)\n",
    "    return cols_procesables"
   ]
  },
  {
   "cell_type": "code",
   "execution_count": 24,
   "id": "498211a1-ad94-47d2-b8d7-dacffa5d09c1",
   "metadata": {},
   "outputs": [],
   "source": [
    "def GetNumericColumnsNames(df):\n",
    "    colnames = df.columns\n",
    "    nums_cols_na = []\n",
    "    for col in colnames:\n",
    "        if(((df[col].dtypes == 'int64') or (df[col].dtypes == 'float64'))):\n",
    "            nums_cols_na.append(col)\n",
    "    return nums_cols_na"
   ]
  },
  {
   "cell_type": "code",
   "execution_count": 5,
   "id": "0881d1ec-92dd-4c3a-95e5-f54320579d2c",
   "metadata": {},
   "outputs": [],
   "source": [
    "def ImputacionPorMediaOMediana(dataset, columna, target):\n",
    "    imputacionMedia = np.round(dataset[columna].mean(), 0)\n",
    "    imputacionMediana = np.round(dataset[columna].median(), 0)\n",
    "    datasetColumnaImputacionMedia = dataset[columna].fillna(imputacionMedia)\n",
    "    datasetColumnaImputacionMediana = dataset[columna].fillna(imputacionMediana)\n",
    "    \n",
    "    proporcion = dataset[columna].isnull().mean()\n",
    "    \n",
    "    if(proporcion <= .2):\n",
    "        correlacionMedia = np.corrcoef(datasetColumnaImputacionMedia, dataset[target])[0,1]\n",
    "        correlacionMediana = np.corrcoef(datasetColumnaImputacionMediana, dataset[target])[0,1]\n",
    "\n",
    "        if(correlacionMedia >= correlacionMediana):\n",
    "            dataset[columna] = dataset[columna].fillna(imputacionMedia)\n",
    "        else:\n",
    "            dataset[columna] = dataset[columna].fillna(imputacionMediana) "
   ]
  },
  {
   "cell_type": "code",
   "execution_count": 87,
   "id": "1f918c4e-cfca-4587-8666-99c18352bb11",
   "metadata": {},
   "outputs": [],
   "source": [
    "def GetCategoricalColumnsNames(df):\n",
    "    colnames = df.columns\n",
    "    cat_cols = []\n",
    "    for col in colnames:\n",
    "        if(df[col].dtype == 'object'):\n",
    "            cat_cols.append(col)\n",
    "    return cat_cols"
   ]
  },
  {
   "cell_type": "code",
   "execution_count": 94,
   "id": "e06ca65b-985e-4a5a-b0c4-1f99401cd4b9",
   "metadata": {},
   "outputs": [],
   "source": [
    "def GetContinuesColumnsNames(df):\n",
    "    colnames = df.columns\n",
    "    numeric_continues_vars = []\n",
    "    for col in colnames:\n",
    "        unique_values =len (df[col].unique())\n",
    "        if((df[col].dtype != 'object') and (unique_values > 30)):\n",
    "            numeric_continues_vars.append(col)\n",
    "    return numeric_continues_vars"
   ]
  },
  {
   "cell_type": "code",
   "execution_count": 10,
   "id": "9a396a8b-a0a7-4c12-bece-ded94a18ac6b",
   "metadata": {},
   "outputs": [],
   "source": [
    "def ExecuteFrequencyEncoding(df, map_type='freq'):\n",
    "    colnames = df.columns\n",
    "    for col in colnames:\n",
    "        if(df[col].dtype == 'object'):\n",
    "            factor_div = 1 if (map_type == 'freq') else len(df[col])\n",
    "            mapper = (df[col].value_counts().sort_values(ascending=False)/factor_div).to_dict()\n",
    "            df[col] = df[col].map(mapper) "
   ]
  },
  {
   "cell_type": "code",
   "execution_count": 12,
   "id": "ced0e9ef-6524-4a61-a34e-600272f9ccf9",
   "metadata": {},
   "outputs": [],
   "source": [
    "def DetectOutliers(df, variable, factor):\n",
    "    IQR = df[variable].quantile(0.75) - df[variable].quantile(0.25)\n",
    "    LI = df[variable].quantile(0.25) - (IQR*factor)\n",
    "    LS = df[variable].quantile(0.75) + (IQR*factor)\n",
    "    \n",
    "    return LI, LS"
   ]
  },
  {
   "cell_type": "code",
   "execution_count": 13,
   "id": "6f9b025c-e13c-471c-90cf-cce6a9699774",
   "metadata": {},
   "outputs": [],
   "source": [
    "def OutlierTreatment(df, variable, factor):\n",
    "    IQR = df[variable].quantile(0.75) - df[variable].quantile(0.25)\n",
    "    LI = df[variable].quantile(0.25) - (IQR*factor)\n",
    "    LS = df[variable].quantile(0.75) + (IQR*factor)\n",
    "    \n",
    "    df[variable] = np.where(df[variable] > LS, LS,\n",
    "                                          np.where(df[variable] < LI, LI, df[variable])) "
   ]
  },
  {
   "cell_type": "markdown",
   "id": "32d64f85-4796-4b96-a439-0fb85a8fb5fd",
   "metadata": {},
   "source": [
    "## Tipos de variables"
   ]
  },
  {
   "cell_type": "code",
   "execution_count": 14,
   "id": "b3459d3b-b899-47f8-b2ff-1737bf99c419",
   "metadata": {},
   "outputs": [
    {
     "data": {
      "text/plain": [
       "Id                 int64\n",
       "MSSubClass         int64\n",
       "MSZoning          object\n",
       "LotFrontage      float64\n",
       "LotArea            int64\n",
       "                  ...   \n",
       "MoSold             int64\n",
       "YrSold             int64\n",
       "SaleType          object\n",
       "SaleCondition     object\n",
       "SalePrice          int64\n",
       "Length: 81, dtype: object"
      ]
     },
     "execution_count": 14,
     "metadata": {},
     "output_type": "execute_result"
    }
   ],
   "source": [
    "dataset.dtypes"
   ]
  },
  {
   "cell_type": "code",
   "execution_count": 15,
   "id": "5a43ce2d-bc1d-4a4d-9b0c-643a438d8a93",
   "metadata": {},
   "outputs": [
    {
     "data": {
      "text/plain": [
       "LotFrontage     float64\n",
       "Alley            object\n",
       "MasVnrType       object\n",
       "MasVnrArea      float64\n",
       "BsmtQual         object\n",
       "BsmtCond         object\n",
       "BsmtExposure     object\n",
       "BsmtFinType1     object\n",
       "BsmtFinType2     object\n",
       "Electrical       object\n",
       "FireplaceQu      object\n",
       "GarageType       object\n",
       "GarageYrBlt     float64\n",
       "GarageFinish     object\n",
       "GarageQual       object\n",
       "GarageCond       object\n",
       "PoolQC           object\n",
       "Fence            object\n",
       "MiscFeature      object\n",
       "dtype: object"
      ]
     },
     "execution_count": 15,
     "metadata": {},
     "output_type": "execute_result"
    }
   ],
   "source": [
    "columnasConNaN = GetNanColumnsNames(dataset)\n",
    "dataset[columnasConNaN].dtypes"
   ]
  },
  {
   "cell_type": "code",
   "execution_count": 23,
   "id": "fe2f9d28-79ae-47dd-9f83-f1d3fadd5462",
   "metadata": {},
   "outputs": [
    {
     "data": {
      "text/plain": [
       "['Id',\n",
       " 'LotFrontage',\n",
       " 'LotArea',\n",
       " 'YearBuilt',\n",
       " 'YearRemodAdd',\n",
       " 'MasVnrArea',\n",
       " 'BsmtFinSF1',\n",
       " 'BsmtFinSF2',\n",
       " 'BsmtUnfSF',\n",
       " 'TotalBsmtSF',\n",
       " '1stFlrSF',\n",
       " '2ndFlrSF',\n",
       " 'GrLivArea',\n",
       " 'GarageYrBlt',\n",
       " 'GarageArea',\n",
       " 'WoodDeckSF',\n",
       " 'OpenPorchSF',\n",
       " 'EnclosedPorch',\n",
       " 'ScreenPorch',\n",
       " 'SalePrice']"
      ]
     },
     "execution_count": 23,
     "metadata": {},
     "output_type": "execute_result"
    }
   ],
   "source": [
    "columnasContinuas = GetContinuesColumns(dataset)\n",
    "columnasContinuas"
   ]
  },
  {
   "cell_type": "code",
   "execution_count": 20,
   "id": "18f4adb3-a6ae-4183-a888-d1333c26f188",
   "metadata": {},
   "outputs": [
    {
     "data": {
      "text/plain": [
       "['MSZoning',\n",
       " 'Street',\n",
       " 'Alley',\n",
       " 'LotShape',\n",
       " 'LandContour',\n",
       " 'Utilities',\n",
       " 'LotConfig',\n",
       " 'LandSlope',\n",
       " 'Neighborhood',\n",
       " 'Condition1',\n",
       " 'Condition2',\n",
       " 'BldgType',\n",
       " 'HouseStyle',\n",
       " 'RoofStyle',\n",
       " 'RoofMatl',\n",
       " 'Exterior1st',\n",
       " 'Exterior2nd',\n",
       " 'MasVnrType',\n",
       " 'ExterQual',\n",
       " 'ExterCond',\n",
       " 'Foundation',\n",
       " 'BsmtQual',\n",
       " 'BsmtCond',\n",
       " 'BsmtExposure',\n",
       " 'BsmtFinType1',\n",
       " 'BsmtFinType2',\n",
       " 'Heating',\n",
       " 'HeatingQC',\n",
       " 'CentralAir',\n",
       " 'Electrical',\n",
       " 'KitchenQual',\n",
       " 'Functional',\n",
       " 'FireplaceQu',\n",
       " 'GarageType',\n",
       " 'GarageFinish',\n",
       " 'GarageQual',\n",
       " 'GarageCond',\n",
       " 'PavedDrive',\n",
       " 'PoolQC',\n",
       " 'Fence',\n",
       " 'MiscFeature',\n",
       " 'SaleType',\n",
       " 'SaleCondition']"
      ]
     },
     "execution_count": 20,
     "metadata": {},
     "output_type": "execute_result"
    }
   ],
   "source": [
    "columnasCategorias = GetCategoricalColumns(dataset)\n",
    "columnasCategorias"
   ]
  },
  {
   "cell_type": "code",
   "execution_count": 26,
   "id": "8415ddf5-7024-45b5-b66c-3e5c74a9d41c",
   "metadata": {},
   "outputs": [
    {
     "data": {
      "text/plain": [
       "['Id',\n",
       " 'MSSubClass',\n",
       " 'LotFrontage',\n",
       " 'LotArea',\n",
       " 'OverallQual',\n",
       " 'OverallCond',\n",
       " 'YearBuilt',\n",
       " 'YearRemodAdd',\n",
       " 'MasVnrArea',\n",
       " 'BsmtFinSF1',\n",
       " 'BsmtFinSF2',\n",
       " 'BsmtUnfSF',\n",
       " 'TotalBsmtSF',\n",
       " '1stFlrSF',\n",
       " '2ndFlrSF',\n",
       " 'LowQualFinSF',\n",
       " 'GrLivArea',\n",
       " 'BsmtFullBath',\n",
       " 'BsmtHalfBath',\n",
       " 'FullBath',\n",
       " 'HalfBath',\n",
       " 'BedroomAbvGr',\n",
       " 'KitchenAbvGr',\n",
       " 'TotRmsAbvGrd',\n",
       " 'Fireplaces',\n",
       " 'GarageYrBlt',\n",
       " 'GarageCars',\n",
       " 'GarageArea',\n",
       " 'WoodDeckSF',\n",
       " 'OpenPorchSF',\n",
       " 'EnclosedPorch',\n",
       " '3SsnPorch',\n",
       " 'ScreenPorch',\n",
       " 'PoolArea',\n",
       " 'MiscVal',\n",
       " 'MoSold',\n",
       " 'YrSold',\n",
       " 'SalePrice']"
      ]
     },
     "execution_count": 26,
     "metadata": {},
     "output_type": "execute_result"
    }
   ],
   "source": [
    "columnasNumericas = GetNumericColumnsNames(dataset)\n",
    "columnasNumericas"
   ]
  },
  {
   "cell_type": "markdown",
   "id": "d28f718d-55a3-4e2b-8b27-3e76c51f8375",
   "metadata": {},
   "source": [
    "## Imputación De Variables"
   ]
  },
  {
   "cell_type": "code",
   "execution_count": 81,
   "id": "aeadd2e1-014d-4ce3-83b4-e8e2e6af1295",
   "metadata": {},
   "outputs": [
    {
     "data": {
      "text/plain": [
       "['Id',\n",
       " 'MSSubClass',\n",
       " 'MSZoning',\n",
       " 'LotFrontage',\n",
       " 'LotArea',\n",
       " 'Street',\n",
       " 'LotShape',\n",
       " 'LandContour',\n",
       " 'Utilities',\n",
       " 'LotConfig',\n",
       " 'LandSlope',\n",
       " 'Neighborhood',\n",
       " 'Condition1',\n",
       " 'Condition2',\n",
       " 'BldgType',\n",
       " 'HouseStyle',\n",
       " 'OverallQual',\n",
       " 'OverallCond',\n",
       " 'YearBuilt',\n",
       " 'YearRemodAdd',\n",
       " 'RoofStyle',\n",
       " 'RoofMatl',\n",
       " 'Exterior1st',\n",
       " 'Exterior2nd',\n",
       " 'MasVnrType',\n",
       " 'MasVnrArea',\n",
       " 'ExterQual',\n",
       " 'ExterCond',\n",
       " 'Foundation',\n",
       " 'BsmtQual',\n",
       " 'BsmtCond',\n",
       " 'BsmtExposure',\n",
       " 'BsmtFinType1',\n",
       " 'BsmtFinSF1',\n",
       " 'BsmtFinType2',\n",
       " 'BsmtFinSF2',\n",
       " 'BsmtUnfSF',\n",
       " 'TotalBsmtSF',\n",
       " 'Heating',\n",
       " 'HeatingQC',\n",
       " 'CentralAir',\n",
       " 'Electrical',\n",
       " '1stFlrSF',\n",
       " '2ndFlrSF',\n",
       " 'LowQualFinSF',\n",
       " 'GrLivArea',\n",
       " 'BsmtFullBath',\n",
       " 'BsmtHalfBath',\n",
       " 'FullBath',\n",
       " 'HalfBath',\n",
       " 'BedroomAbvGr',\n",
       " 'KitchenAbvGr',\n",
       " 'KitchenQual',\n",
       " 'TotRmsAbvGrd',\n",
       " 'Functional',\n",
       " 'Fireplaces',\n",
       " 'GarageType',\n",
       " 'GarageYrBlt',\n",
       " 'GarageFinish',\n",
       " 'GarageCars',\n",
       " 'GarageArea',\n",
       " 'GarageQual',\n",
       " 'GarageCond',\n",
       " 'PavedDrive',\n",
       " 'WoodDeckSF',\n",
       " 'OpenPorchSF',\n",
       " 'EnclosedPorch',\n",
       " '3SsnPorch',\n",
       " 'ScreenPorch',\n",
       " 'PoolArea',\n",
       " 'MiscVal',\n",
       " 'MoSold',\n",
       " 'YrSold',\n",
       " 'SaleType',\n",
       " 'SaleCondition',\n",
       " 'SalePrice']"
      ]
     },
     "execution_count": 81,
     "metadata": {},
     "output_type": "execute_result"
    }
   ],
   "source": [
    "columnasCCA = GetNanGoodColumnsNames(dataset)\n",
    "columnasCCA "
   ]
  },
  {
   "cell_type": "code",
   "execution_count": 82,
   "id": "48b2837a-5c54-45f6-953a-24c421901cd7",
   "metadata": {},
   "outputs": [
    {
     "data": {
      "text/plain": [
       "['Id',\n",
       " 'MSSubClass',\n",
       " 'MSZoning',\n",
       " 'LotFrontage',\n",
       " 'LotArea',\n",
       " 'Street',\n",
       " 'LotShape',\n",
       " 'LandContour',\n",
       " 'Utilities',\n",
       " 'LotConfig',\n",
       " 'LandSlope',\n",
       " 'Neighborhood',\n",
       " 'Condition1',\n",
       " 'Condition2',\n",
       " 'BldgType',\n",
       " 'HouseStyle',\n",
       " 'OverallQual',\n",
       " 'OverallCond',\n",
       " 'YearBuilt',\n",
       " 'YearRemodAdd',\n",
       " 'RoofStyle',\n",
       " 'RoofMatl',\n",
       " 'Exterior1st',\n",
       " 'Exterior2nd',\n",
       " 'MasVnrType',\n",
       " 'MasVnrArea',\n",
       " 'ExterQual',\n",
       " 'ExterCond',\n",
       " 'Foundation',\n",
       " 'BsmtQual',\n",
       " 'BsmtCond',\n",
       " 'BsmtExposure',\n",
       " 'BsmtFinType1',\n",
       " 'BsmtFinSF1',\n",
       " 'BsmtFinType2',\n",
       " 'BsmtFinSF2',\n",
       " 'BsmtUnfSF',\n",
       " 'TotalBsmtSF',\n",
       " 'Heating',\n",
       " 'HeatingQC',\n",
       " 'CentralAir',\n",
       " 'Electrical',\n",
       " '1stFlrSF',\n",
       " '2ndFlrSF',\n",
       " 'LowQualFinSF',\n",
       " 'GrLivArea',\n",
       " 'BsmtFullBath',\n",
       " 'BsmtHalfBath',\n",
       " 'FullBath',\n",
       " 'HalfBath',\n",
       " 'BedroomAbvGr',\n",
       " 'KitchenAbvGr',\n",
       " 'KitchenQual',\n",
       " 'TotRmsAbvGrd',\n",
       " 'Functional',\n",
       " 'Fireplaces',\n",
       " 'GarageType',\n",
       " 'GarageYrBlt',\n",
       " 'GarageFinish',\n",
       " 'GarageCars',\n",
       " 'GarageArea',\n",
       " 'GarageQual',\n",
       " 'GarageCond',\n",
       " 'PavedDrive',\n",
       " 'WoodDeckSF',\n",
       " 'OpenPorchSF',\n",
       " 'EnclosedPorch',\n",
       " '3SsnPorch',\n",
       " 'ScreenPorch',\n",
       " 'PoolArea',\n",
       " 'MiscVal',\n",
       " 'MoSold',\n",
       " 'YrSold',\n",
       " 'SaleType',\n",
       " 'SaleCondition',\n",
       " 'SalePrice']"
      ]
     },
     "execution_count": 82,
     "metadata": {},
     "output_type": "execute_result"
    }
   ],
   "source": [
    "dataset = dataset[columnasCCA].dropna()\n",
    "GetNanGoodColumnsNames(dataset)"
   ]
  },
  {
   "cell_type": "code",
   "execution_count": 83,
   "id": "34aa5a30-a164-447e-9fd9-e475dc940d30",
   "metadata": {},
   "outputs": [],
   "source": [
    "columnasNumericasConNaN = GetNanColumnsNames(dataset[columnasNumericas])\n",
    "\n",
    "for columna in columnasNumericasConNaN:\n",
    "    ImputacionPorMediaOMediana(dataset, columna, \"SalePrice\")"
   ]
  },
  {
   "cell_type": "code",
   "execution_count": 72,
   "id": "3f1932ef-1bc1-4d57-8b64-2a08921c22ca",
   "metadata": {},
   "outputs": [
    {
     "data": {
      "text/plain": [
       "[]"
      ]
     },
     "execution_count": 72,
     "metadata": {},
     "output_type": "execute_result"
    }
   ],
   "source": [
    "GetNanColumnsNames(dataset[columnasNumericas])"
   ]
  },
  {
   "cell_type": "code",
   "execution_count": 85,
   "id": "1ffb6d63-2b2b-40c5-b1c4-5787338bab79",
   "metadata": {},
   "outputs": [],
   "source": [
    "dataset[\"BsmtQual\"].fillna(\"Missing\", inplace = True)\n"
   ]
  },
  {
   "cell_type": "code",
   "execution_count": 90,
   "id": "d9f614f8-9b57-4c71-8742-9f447540e9e3",
   "metadata": {},
   "outputs": [
    {
     "data": {
      "text/plain": [
       "['MSZoning',\n",
       " 'Street',\n",
       " 'LotShape',\n",
       " 'LandContour',\n",
       " 'Utilities',\n",
       " 'LotConfig',\n",
       " 'LandSlope',\n",
       " 'Neighborhood',\n",
       " 'Condition1',\n",
       " 'Condition2',\n",
       " 'BldgType',\n",
       " 'HouseStyle',\n",
       " 'RoofStyle',\n",
       " 'RoofMatl',\n",
       " 'Exterior1st',\n",
       " 'Exterior2nd',\n",
       " 'MasVnrType',\n",
       " 'ExterQual',\n",
       " 'ExterCond',\n",
       " 'Foundation',\n",
       " 'BsmtQual',\n",
       " 'BsmtCond',\n",
       " 'BsmtExposure',\n",
       " 'BsmtFinType1',\n",
       " 'BsmtFinType2',\n",
       " 'Heating',\n",
       " 'HeatingQC',\n",
       " 'CentralAir',\n",
       " 'Electrical',\n",
       " 'KitchenQual',\n",
       " 'Functional',\n",
       " 'GarageType',\n",
       " 'GarageFinish',\n",
       " 'GarageQual',\n",
       " 'GarageCond',\n",
       " 'PavedDrive',\n",
       " 'SaleType',\n",
       " 'SaleCondition']"
      ]
     },
     "execution_count": 90,
     "metadata": {},
     "output_type": "execute_result"
    }
   ],
   "source": [
    "columnasCategoricas = GetCategoricalColumnsNames(dataset)\n",
    "columnasCategoricas"
   ]
  },
  {
   "cell_type": "code",
   "execution_count": 91,
   "id": "0942cc9e-bb23-4e24-9f02-554575d7c1e6",
   "metadata": {},
   "outputs": [
    {
     "data": {
      "text/html": [
       "<div>\n",
       "<style scoped>\n",
       "    .dataframe tbody tr th:only-of-type {\n",
       "        vertical-align: middle;\n",
       "    }\n",
       "\n",
       "    .dataframe tbody tr th {\n",
       "        vertical-align: top;\n",
       "    }\n",
       "\n",
       "    .dataframe thead th {\n",
       "        text-align: right;\n",
       "    }\n",
       "</style>\n",
       "<table border=\"1\" class=\"dataframe\">\n",
       "  <thead>\n",
       "    <tr style=\"text-align: right;\">\n",
       "      <th></th>\n",
       "      <th>C (all)</th>\n",
       "      <th>FV</th>\n",
       "      <th>RH</th>\n",
       "      <th>RL</th>\n",
       "      <th>RM</th>\n",
       "    </tr>\n",
       "  </thead>\n",
       "  <tbody>\n",
       "    <tr>\n",
       "      <th>0</th>\n",
       "      <td>0</td>\n",
       "      <td>0</td>\n",
       "      <td>0</td>\n",
       "      <td>1</td>\n",
       "      <td>0</td>\n",
       "    </tr>\n",
       "    <tr>\n",
       "      <th>1</th>\n",
       "      <td>0</td>\n",
       "      <td>0</td>\n",
       "      <td>0</td>\n",
       "      <td>1</td>\n",
       "      <td>0</td>\n",
       "    </tr>\n",
       "    <tr>\n",
       "      <th>2</th>\n",
       "      <td>0</td>\n",
       "      <td>0</td>\n",
       "      <td>0</td>\n",
       "      <td>1</td>\n",
       "      <td>0</td>\n",
       "    </tr>\n",
       "    <tr>\n",
       "      <th>3</th>\n",
       "      <td>0</td>\n",
       "      <td>0</td>\n",
       "      <td>0</td>\n",
       "      <td>1</td>\n",
       "      <td>0</td>\n",
       "    </tr>\n",
       "    <tr>\n",
       "      <th>4</th>\n",
       "      <td>0</td>\n",
       "      <td>0</td>\n",
       "      <td>0</td>\n",
       "      <td>1</td>\n",
       "      <td>0</td>\n",
       "    </tr>\n",
       "    <tr>\n",
       "      <th>...</th>\n",
       "      <td>...</td>\n",
       "      <td>...</td>\n",
       "      <td>...</td>\n",
       "      <td>...</td>\n",
       "      <td>...</td>\n",
       "    </tr>\n",
       "    <tr>\n",
       "      <th>1455</th>\n",
       "      <td>0</td>\n",
       "      <td>0</td>\n",
       "      <td>0</td>\n",
       "      <td>1</td>\n",
       "      <td>0</td>\n",
       "    </tr>\n",
       "    <tr>\n",
       "      <th>1456</th>\n",
       "      <td>0</td>\n",
       "      <td>0</td>\n",
       "      <td>0</td>\n",
       "      <td>1</td>\n",
       "      <td>0</td>\n",
       "    </tr>\n",
       "    <tr>\n",
       "      <th>1457</th>\n",
       "      <td>0</td>\n",
       "      <td>0</td>\n",
       "      <td>0</td>\n",
       "      <td>1</td>\n",
       "      <td>0</td>\n",
       "    </tr>\n",
       "    <tr>\n",
       "      <th>1458</th>\n",
       "      <td>0</td>\n",
       "      <td>0</td>\n",
       "      <td>0</td>\n",
       "      <td>1</td>\n",
       "      <td>0</td>\n",
       "    </tr>\n",
       "    <tr>\n",
       "      <th>1459</th>\n",
       "      <td>0</td>\n",
       "      <td>0</td>\n",
       "      <td>0</td>\n",
       "      <td>1</td>\n",
       "      <td>0</td>\n",
       "    </tr>\n",
       "  </tbody>\n",
       "</table>\n",
       "<p>1094 rows × 5 columns</p>\n",
       "</div>"
      ],
      "text/plain": [
       "      C (all)  FV  RH  RL  RM\n",
       "0           0   0   0   1   0\n",
       "1           0   0   0   1   0\n",
       "2           0   0   0   1   0\n",
       "3           0   0   0   1   0\n",
       "4           0   0   0   1   0\n",
       "...       ...  ..  ..  ..  ..\n",
       "1455        0   0   0   1   0\n",
       "1456        0   0   0   1   0\n",
       "1457        0   0   0   1   0\n",
       "1458        0   0   0   1   0\n",
       "1459        0   0   0   1   0\n",
       "\n",
       "[1094 rows x 5 columns]"
      ]
     },
     "execution_count": 91,
     "metadata": {},
     "output_type": "execute_result"
    }
   ],
   "source": [
    "pd.get_dummies(dataset['MSZoning'])"
   ]
  },
  {
   "cell_type": "code",
   "execution_count": 92,
   "id": "18250dff-f9aa-4db0-86e8-3b9da12b3c89",
   "metadata": {},
   "outputs": [],
   "source": [
    "ExecuteFrequencyEncoding(dataset)"
   ]
  },
  {
   "cell_type": "markdown",
   "id": "cb69b59f-5a23-439e-adc1-36ba6a0e57b6",
   "metadata": {},
   "source": [
    "## Transformación Variables Númericas"
   ]
  },
  {
   "cell_type": "code",
   "execution_count": 95,
   "id": "aa95c7a2-be78-4fda-bf16-80848625c2c8",
   "metadata": {},
   "outputs": [
    {
     "data": {
      "text/plain": [
       "['Id',\n",
       " 'LotFrontage',\n",
       " 'LotArea',\n",
       " 'YearBuilt',\n",
       " 'YearRemodAdd',\n",
       " 'MasVnrArea',\n",
       " 'BsmtFinSF1',\n",
       " 'BsmtFinSF2',\n",
       " 'BsmtUnfSF',\n",
       " 'TotalBsmtSF',\n",
       " '1stFlrSF',\n",
       " '2ndFlrSF',\n",
       " 'GrLivArea',\n",
       " 'GarageYrBlt',\n",
       " 'GarageArea',\n",
       " 'WoodDeckSF',\n",
       " 'OpenPorchSF',\n",
       " 'EnclosedPorch',\n",
       " 'ScreenPorch',\n",
       " 'SalePrice']"
      ]
     },
     "execution_count": 95,
     "metadata": {},
     "output_type": "execute_result"
    }
   ],
   "source": [
    "columnasContinuas = GetContinuesColumnsNames(dataset)\n",
    "columnasContinuas"
   ]
  },
  {
   "cell_type": "code",
   "execution_count": 99,
   "id": "813d1379-7eca-4da6-83b4-767fa3dda4ae",
   "metadata": {},
   "outputs": [],
   "source": [
    "dataset[\"LotArea\"] = np.log(dataset[\"LotArea\"])"
   ]
  },
  {
   "cell_type": "code",
   "execution_count": 100,
   "id": "74101372-bde0-4daf-88f5-c8c3839a6613",
   "metadata": {},
   "outputs": [],
   "source": [
    "dataset[\"YearBuilt\"] = (1 / dataset[\"YearBuilt\"])"
   ]
  },
  {
   "cell_type": "code",
   "execution_count": 101,
   "id": "a2c4975b-7196-4d34-a74a-ac97d6b36fd8",
   "metadata": {},
   "outputs": [],
   "source": [
    "dataset['YearRemodAdd'] = (dataset['YearRemodAdd']**2)"
   ]
  },
  {
   "cell_type": "code",
   "execution_count": 105,
   "id": "b85fbb9e-f0b0-4b98-8686-e19c31eec815",
   "metadata": {},
   "outputs": [],
   "source": [
    "dataset[\"TotalBsmtSF\"], lambdaX = stats.boxcox(dataset[\"TotalBsmtSF\"])"
   ]
  },
  {
   "cell_type": "code",
   "execution_count": 106,
   "id": "d3be2a2d-f4aa-437d-ba9d-b77be237425e",
   "metadata": {},
   "outputs": [],
   "source": [
    "dataset[\"MasVnrArea\"], lambdaX = stats.yeojohnson(dataset[\"MasVnrArea\"])"
   ]
  },
  {
   "cell_type": "markdown",
   "id": "36e9d37d-b89c-4246-aa48-f287e0076440",
   "metadata": {},
   "source": [
    "## Outliers"
   ]
  },
  {
   "cell_type": "code",
   "execution_count": 110,
   "id": "6cd2527e-bd41-47d3-807f-66c8ec670fd7",
   "metadata": {},
   "outputs": [],
   "source": [
    "for columna in columnasContinuas:\n",
    "    OutlierTreatment(dataset, columna, 1.75)"
   ]
  },
  {
   "cell_type": "markdown",
   "id": "2966ff74-0c33-432c-a285-83aafe935136",
   "metadata": {},
   "source": [
    "## Feature Scaling"
   ]
  },
  {
   "cell_type": "code",
   "execution_count": 111,
   "id": "1f926581-d35a-4719-8b73-a2de0dd8cd88",
   "metadata": {},
   "outputs": [],
   "source": [
    "scaler = StandardScaler()"
   ]
  },
  {
   "cell_type": "code",
   "execution_count": 112,
   "id": "31f64dca-ac5d-44f6-b43c-2773db74204b",
   "metadata": {},
   "outputs": [
    {
     "data": {
      "text/plain": [
       "StandardScaler()"
      ]
     },
     "execution_count": 112,
     "metadata": {},
     "output_type": "execute_result"
    }
   ],
   "source": [
    "scaler.fit(dataset.loc[:, columnasContinuas]) "
   ]
  },
  {
   "cell_type": "code",
   "execution_count": 117,
   "id": "2bd0b337-a153-46f9-b1c1-82c544a46d09",
   "metadata": {},
   "outputs": [],
   "source": [
    "dataset.loc[:, columnasContinuas] = pd.DataFrame(scaler.transform(dataset.loc[:, columnasContinuas]), columns=dataset.loc[:, columnasContinuas].columns)"
   ]
  },
  {
   "cell_type": "code",
   "execution_count": 118,
   "id": "c868148a-675a-43e4-abcc-7ea0c75113c1",
   "metadata": {},
   "outputs": [
    {
     "data": {
      "text/html": [
       "<div>\n",
       "<style scoped>\n",
       "    .dataframe tbody tr th:only-of-type {\n",
       "        vertical-align: middle;\n",
       "    }\n",
       "\n",
       "    .dataframe tbody tr th {\n",
       "        vertical-align: top;\n",
       "    }\n",
       "\n",
       "    .dataframe thead th {\n",
       "        text-align: right;\n",
       "    }\n",
       "</style>\n",
       "<table border=\"1\" class=\"dataframe\">\n",
       "  <thead>\n",
       "    <tr style=\"text-align: right;\">\n",
       "      <th></th>\n",
       "      <th>Id</th>\n",
       "      <th>LotFrontage</th>\n",
       "      <th>LotArea</th>\n",
       "      <th>YearBuilt</th>\n",
       "      <th>YearRemodAdd</th>\n",
       "      <th>MasVnrArea</th>\n",
       "      <th>BsmtFinSF1</th>\n",
       "      <th>BsmtFinSF2</th>\n",
       "      <th>BsmtUnfSF</th>\n",
       "      <th>TotalBsmtSF</th>\n",
       "      <th>1stFlrSF</th>\n",
       "      <th>2ndFlrSF</th>\n",
       "      <th>GrLivArea</th>\n",
       "      <th>GarageYrBlt</th>\n",
       "      <th>GarageArea</th>\n",
       "      <th>WoodDeckSF</th>\n",
       "      <th>OpenPorchSF</th>\n",
       "      <th>EnclosedPorch</th>\n",
       "      <th>ScreenPorch</th>\n",
       "      <th>SalePrice</th>\n",
       "    </tr>\n",
       "  </thead>\n",
       "  <tbody>\n",
       "    <tr>\n",
       "      <th>count</th>\n",
       "      <td>821.00</td>\n",
       "      <td>821.00</td>\n",
       "      <td>821.00</td>\n",
       "      <td>821.00</td>\n",
       "      <td>821.00</td>\n",
       "      <td>821.00</td>\n",
       "      <td>821.00</td>\n",
       "      <td>821.0</td>\n",
       "      <td>821.00</td>\n",
       "      <td>821.00</td>\n",
       "      <td>821.00</td>\n",
       "      <td>821.00</td>\n",
       "      <td>821.00</td>\n",
       "      <td>821.00</td>\n",
       "      <td>821.00</td>\n",
       "      <td>821.00</td>\n",
       "      <td>821.00</td>\n",
       "      <td>821.0</td>\n",
       "      <td>821.0</td>\n",
       "      <td>821.00</td>\n",
       "    </tr>\n",
       "    <tr>\n",
       "      <th>mean</th>\n",
       "      <td>-0.01</td>\n",
       "      <td>0.00</td>\n",
       "      <td>-0.01</td>\n",
       "      <td>-0.01</td>\n",
       "      <td>0.01</td>\n",
       "      <td>0.01</td>\n",
       "      <td>0.03</td>\n",
       "      <td>0.0</td>\n",
       "      <td>-0.02</td>\n",
       "      <td>0.02</td>\n",
       "      <td>0.00</td>\n",
       "      <td>0.02</td>\n",
       "      <td>0.02</td>\n",
       "      <td>0.01</td>\n",
       "      <td>0.03</td>\n",
       "      <td>0.01</td>\n",
       "      <td>0.01</td>\n",
       "      <td>0.0</td>\n",
       "      <td>0.0</td>\n",
       "      <td>0.01</td>\n",
       "    </tr>\n",
       "    <tr>\n",
       "      <th>std</th>\n",
       "      <td>0.99</td>\n",
       "      <td>1.02</td>\n",
       "      <td>1.01</td>\n",
       "      <td>1.01</td>\n",
       "      <td>1.00</td>\n",
       "      <td>1.00</td>\n",
       "      <td>1.01</td>\n",
       "      <td>0.0</td>\n",
       "      <td>1.00</td>\n",
       "      <td>1.00</td>\n",
       "      <td>1.00</td>\n",
       "      <td>1.01</td>\n",
       "      <td>1.01</td>\n",
       "      <td>1.00</td>\n",
       "      <td>1.02</td>\n",
       "      <td>0.99</td>\n",
       "      <td>1.02</td>\n",
       "      <td>0.0</td>\n",
       "      <td>0.0</td>\n",
       "      <td>1.00</td>\n",
       "    </tr>\n",
       "    <tr>\n",
       "      <th>min</th>\n",
       "      <td>-1.73</td>\n",
       "      <td>-2.22</td>\n",
       "      <td>-2.39</td>\n",
       "      <td>-1.19</td>\n",
       "      <td>-1.71</td>\n",
       "      <td>-0.84</td>\n",
       "      <td>-1.01</td>\n",
       "      <td>0.0</td>\n",
       "      <td>-1.37</td>\n",
       "      <td>-3.20</td>\n",
       "      <td>-1.98</td>\n",
       "      <td>-0.81</td>\n",
       "      <td>-2.26</td>\n",
       "      <td>-3.03</td>\n",
       "      <td>-1.83</td>\n",
       "      <td>-0.80</td>\n",
       "      <td>-0.82</td>\n",
       "      <td>0.0</td>\n",
       "      <td>0.0</td>\n",
       "      <td>-2.05</td>\n",
       "    </tr>\n",
       "    <tr>\n",
       "      <th>25%</th>\n",
       "      <td>-0.84</td>\n",
       "      <td>-0.49</td>\n",
       "      <td>-0.59</td>\n",
       "      <td>-0.97</td>\n",
       "      <td>-0.86</td>\n",
       "      <td>-0.84</td>\n",
       "      <td>-1.01</td>\n",
       "      <td>0.0</td>\n",
       "      <td>-0.79</td>\n",
       "      <td>-0.69</td>\n",
       "      <td>-0.75</td>\n",
       "      <td>-0.81</td>\n",
       "      <td>-0.71</td>\n",
       "      <td>-0.72</td>\n",
       "      <td>-0.72</td>\n",
       "      <td>-0.80</td>\n",
       "      <td>-0.82</td>\n",
       "      <td>0.0</td>\n",
       "      <td>0.0</td>\n",
       "      <td>-0.71</td>\n",
       "    </tr>\n",
       "    <tr>\n",
       "      <th>50%</th>\n",
       "      <td>-0.02</td>\n",
       "      <td>0.01</td>\n",
       "      <td>-0.14</td>\n",
       "      <td>-0.13</td>\n",
       "      <td>0.48</td>\n",
       "      <td>-0.84</td>\n",
       "      <td>-0.10</td>\n",
       "      <td>0.0</td>\n",
       "      <td>-0.22</td>\n",
       "      <td>-0.02</td>\n",
       "      <td>-0.18</td>\n",
       "      <td>-0.81</td>\n",
       "      <td>-0.08</td>\n",
       "      <td>0.21</td>\n",
       "      <td>-0.08</td>\n",
       "      <td>-0.69</td>\n",
       "      <td>-0.30</td>\n",
       "      <td>0.0</td>\n",
       "      <td>0.0</td>\n",
       "      <td>-0.24</td>\n",
       "    </tr>\n",
       "    <tr>\n",
       "      <th>75%</th>\n",
       "      <td>0.84</td>\n",
       "      <td>0.60</td>\n",
       "      <td>0.42</td>\n",
       "      <td>0.61</td>\n",
       "      <td>0.91</td>\n",
       "      <td>1.17</td>\n",
       "      <td>0.65</td>\n",
       "      <td>0.0</td>\n",
       "      <td>0.54</td>\n",
       "      <td>0.78</td>\n",
       "      <td>0.65</td>\n",
       "      <td>0.87</td>\n",
       "      <td>0.56</td>\n",
       "      <td>0.94</td>\n",
       "      <td>0.60</td>\n",
       "      <td>0.67</td>\n",
       "      <td>0.47</td>\n",
       "      <td>0.0</td>\n",
       "      <td>0.0</td>\n",
       "      <td>0.55</td>\n",
       "    </tr>\n",
       "    <tr>\n",
       "      <th>max</th>\n",
       "      <td>1.74</td>\n",
       "      <td>2.24</td>\n",
       "      <td>2.25</td>\n",
       "      <td>3.06</td>\n",
       "      <td>1.16</td>\n",
       "      <td>1.54</td>\n",
       "      <td>3.43</td>\n",
       "      <td>0.0</td>\n",
       "      <td>2.84</td>\n",
       "      <td>3.26</td>\n",
       "      <td>3.12</td>\n",
       "      <td>3.76</td>\n",
       "      <td>2.78</td>\n",
       "      <td>1.21</td>\n",
       "      <td>2.80</td>\n",
       "      <td>3.21</td>\n",
       "      <td>2.67</td>\n",
       "      <td>0.0</td>\n",
       "      <td>0.0</td>\n",
       "      <td>2.64</td>\n",
       "    </tr>\n",
       "  </tbody>\n",
       "</table>\n",
       "</div>"
      ],
      "text/plain": [
       "           Id  LotFrontage  LotArea  YearBuilt  YearRemodAdd  MasVnrArea  \\\n",
       "count  821.00       821.00   821.00     821.00        821.00      821.00   \n",
       "mean    -0.01         0.00    -0.01      -0.01          0.01        0.01   \n",
       "std      0.99         1.02     1.01       1.01          1.00        1.00   \n",
       "min     -1.73        -2.22    -2.39      -1.19         -1.71       -0.84   \n",
       "25%     -0.84        -0.49    -0.59      -0.97         -0.86       -0.84   \n",
       "50%     -0.02         0.01    -0.14      -0.13          0.48       -0.84   \n",
       "75%      0.84         0.60     0.42       0.61          0.91        1.17   \n",
       "max      1.74         2.24     2.25       3.06          1.16        1.54   \n",
       "\n",
       "       BsmtFinSF1  BsmtFinSF2  BsmtUnfSF  TotalBsmtSF  1stFlrSF  2ndFlrSF  \\\n",
       "count      821.00       821.0     821.00       821.00    821.00    821.00   \n",
       "mean         0.03         0.0      -0.02         0.02      0.00      0.02   \n",
       "std          1.01         0.0       1.00         1.00      1.00      1.01   \n",
       "min         -1.01         0.0      -1.37        -3.20     -1.98     -0.81   \n",
       "25%         -1.01         0.0      -0.79        -0.69     -0.75     -0.81   \n",
       "50%         -0.10         0.0      -0.22        -0.02     -0.18     -0.81   \n",
       "75%          0.65         0.0       0.54         0.78      0.65      0.87   \n",
       "max          3.43         0.0       2.84         3.26      3.12      3.76   \n",
       "\n",
       "       GrLivArea  GarageYrBlt  GarageArea  WoodDeckSF  OpenPorchSF  \\\n",
       "count     821.00       821.00      821.00      821.00       821.00   \n",
       "mean        0.02         0.01        0.03        0.01         0.01   \n",
       "std         1.01         1.00        1.02        0.99         1.02   \n",
       "min        -2.26        -3.03       -1.83       -0.80        -0.82   \n",
       "25%        -0.71        -0.72       -0.72       -0.80        -0.82   \n",
       "50%        -0.08         0.21       -0.08       -0.69        -0.30   \n",
       "75%         0.56         0.94        0.60        0.67         0.47   \n",
       "max         2.78         1.21        2.80        3.21         2.67   \n",
       "\n",
       "       EnclosedPorch  ScreenPorch  SalePrice  \n",
       "count          821.0        821.0     821.00  \n",
       "mean             0.0          0.0       0.01  \n",
       "std              0.0          0.0       1.00  \n",
       "min              0.0          0.0      -2.05  \n",
       "25%              0.0          0.0      -0.71  \n",
       "50%              0.0          0.0      -0.24  \n",
       "75%              0.0          0.0       0.55  \n",
       "max              0.0          0.0       2.64  "
      ]
     },
     "execution_count": 118,
     "metadata": {},
     "output_type": "execute_result"
    }
   ],
   "source": [
    "np.round(dataset.loc[:, columnasContinuas].describe(), 2)"
   ]
  },
  {
   "cell_type": "code",
   "execution_count": null,
   "id": "fc71f527-a4b5-436b-8d3f-db3e14e2e7d7",
   "metadata": {},
   "outputs": [],
   "source": []
  }
 ],
 "metadata": {
  "kernelspec": {
   "display_name": "Python 3 (ipykernel)",
   "language": "python",
   "name": "python3"
  },
  "language_info": {
   "codemirror_mode": {
    "name": "ipython",
    "version": 3
   },
   "file_extension": ".py",
   "mimetype": "text/x-python",
   "name": "python",
   "nbconvert_exporter": "python",
   "pygments_lexer": "ipython3",
   "version": "3.9.7"
  }
 },
 "nbformat": 4,
 "nbformat_minor": 5
}
