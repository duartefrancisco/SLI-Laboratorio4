{
 "cells": [
  {
   "cell_type": "markdown",
   "id": "1bf94c5c-26a6-4c74-9cb5-b550ed087cf3",
   "metadata": {},
   "source": [
    "# Laboratorio 4 - Statistical Learning I - Universidad Galileo"
   ]
  },
  {
   "cell_type": "markdown",
   "id": "0744d50a-2544-43a5-8e86-1a742bdaf005",
   "metadata": {},
   "source": [
    "#### Importación de librerías"
   ]
  },
  {
   "cell_type": "code",
   "execution_count": 65,
   "id": "30502124-1c29-466b-9733-f1b5c35e8850",
   "metadata": {},
   "outputs": [],
   "source": [
    "import pandas as pd\n",
    "import numpy as np\n",
    "import matplotlib.pyplot as plt\n",
    "import seaborn as sns\n",
    "import scipy.stats as stats\n",
    "from sklearn.preprocessing import StandardScaler"
   ]
  },
  {
   "cell_type": "markdown",
   "id": "dc1f56b3-6831-4a7c-881f-43b32f1d7740",
   "metadata": {},
   "source": [
    "#### Importación de dataset"
   ]
  },
  {
   "cell_type": "code",
   "execution_count": 80,
   "id": "a684f9ce-9b12-4c15-99bd-02959adf58b2",
   "metadata": {},
   "outputs": [],
   "source": [
    "dataset = pd.read_csv('train_HP.csv')"
   ]
  },
  {
   "cell_type": "markdown",
   "id": "b7a14156-11c2-4b82-abf7-cb5a45deba33",
   "metadata": {},
   "source": [
    "#### Funciones necesarias"
   ]
  },
  {
   "cell_type": "code",
   "execution_count": 6,
   "id": "a4692e19-b36f-4fe2-a105-1f07b09a6f93",
   "metadata": {},
   "outputs": [],
   "source": [
    "def GetNanColumnsNames(df):\n",
    "    colnames = df.columns\n",
    "    cols_con_na = []\n",
    "    for col in colnames:\n",
    "        if(df[col].isnull().sum() > 0):\n",
    "            cols_con_na.append(col)\n",
    "    return cols_con_na"
   ]
  },
  {
   "cell_type": "code",
   "execution_count": 7,
   "id": "5cbb3582-7214-4f05-8c53-82e4d2344860",
   "metadata": {},
   "outputs": [],
   "source": [
    "def GetNanGoodColumnsNames(df, rate = 0.2):\n",
    "    cols_procesables = []\n",
    "    for col in df.columns:\n",
    "        if((df[col].isnull().mean() < rate)):\n",
    "            cols_procesables.append(col)\n",
    "    return cols_procesables"
   ]
  },
  {
   "cell_type": "code",
   "execution_count": 24,
   "id": "498211a1-ad94-47d2-b8d7-dacffa5d09c1",
   "metadata": {},
   "outputs": [],
   "source": [
    "def GetNumericColumnsNames(df):\n",
    "    colnames = df.columns\n",
    "    nums_cols_na = []\n",
    "    for col in colnames:\n",
    "        if(((df[col].dtypes == 'int64') or (df[col].dtypes == 'float64'))):\n",
    "            nums_cols_na.append(col)\n",
    "    return nums_cols_na"
   ]
  },
  {
   "cell_type": "code",
   "execution_count": 5,
   "id": "0881d1ec-92dd-4c3a-95e5-f54320579d2c",
   "metadata": {},
   "outputs": [],
   "source": [
    "def ImputacionPorMediaOMediana(dataset, columna, target):\n",
    "    imputacionMedia = np.round(dataset[columna].mean(), 0)\n",
    "    imputacionMediana = np.round(dataset[columna].median(), 0)\n",
    "    datasetColumnaImputacionMedia = dataset[columna].fillna(imputacionMedia)\n",
    "    datasetColumnaImputacionMediana = dataset[columna].fillna(imputacionMediana)\n",
    "    \n",
    "    proporcion = dataset[columna].isnull().mean()\n",
    "    \n",
    "    if(proporcion <= .2):\n",
    "        correlacionMedia = np.corrcoef(datasetColumnaImputacionMedia, dataset[target])[0,1]\n",
    "        correlacionMediana = np.corrcoef(datasetColumnaImputacionMediana, dataset[target])[0,1]\n",
    "\n",
    "        if(correlacionMedia >= correlacionMediana):\n",
    "            dataset[columna] = dataset[columna].fillna(imputacionMedia)\n",
    "        else:\n",
    "            dataset[columna] = dataset[columna].fillna(imputacionMediana) "
   ]
  },
  {
   "cell_type": "code",
   "execution_count": 19,
   "id": "1f918c4e-cfca-4587-8666-99c18352bb11",
   "metadata": {},
   "outputs": [],
   "source": [
    "def GetCategoricalColumns(df):\n",
    "    colnames = df.columns\n",
    "    cat_cols = []\n",
    "    for col in colnames:\n",
    "        if(df[col].dtype == 'object'):\n",
    "            cat_cols.append(col)\n",
    "    return cat_cols"
   ]
  },
  {
   "cell_type": "code",
   "execution_count": 16,
   "id": "e06ca65b-985e-4a5a-b0c4-1f99401cd4b9",
   "metadata": {},
   "outputs": [],
   "source": [
    "def GetContinuesColumns(df):\n",
    "    colnames = df.columns\n",
    "    numeric_continues_vars = []\n",
    "    for col in colnames:\n",
    "        unique_values =len (df[col].unique())\n",
    "        if((df[col].dtype != 'object') and (unique_values > 30)):\n",
    "            numeric_continues_vars.append(col)\n",
    "    return numeric_continues_vars"
   ]
  },
  {
   "cell_type": "code",
   "execution_count": 10,
   "id": "9a396a8b-a0a7-4c12-bece-ded94a18ac6b",
   "metadata": {},
   "outputs": [],
   "source": [
    "def ExecuteFrequencyEncoding(df, map_type='freq'):\n",
    "    colnames = df.columns\n",
    "    for col in colnames:\n",
    "        if(df[col].dtype == 'object'):\n",
    "            factor_div = 1 if (map_type == 'freq') else len(df[col])\n",
    "            mapper = (df[col].value_counts().sort_values(ascending=False)/factor_div).to_dict()\n",
    "            df[col] = df[col].map(mapper) "
   ]
  },
  {
   "cell_type": "code",
   "execution_count": 12,
   "id": "ced0e9ef-6524-4a61-a34e-600272f9ccf9",
   "metadata": {},
   "outputs": [],
   "source": [
    "def DetectOutliers(df, variable, factor):\n",
    "    IQR = df[variable].quantile(0.75) - df[variable].quantile(0.25)\n",
    "    LI = df[variable].quantile(0.25) - (IQR*factor)\n",
    "    LS = df[variable].quantile(0.75) + (IQR*factor)\n",
    "    \n",
    "    return LI, LS"
   ]
  },
  {
   "cell_type": "code",
   "execution_count": 13,
   "id": "6f9b025c-e13c-471c-90cf-cce6a9699774",
   "metadata": {},
   "outputs": [],
   "source": [
    "def OutlierTreatment(df, variable, factor):\n",
    "    IQR = df[variable].quantile(0.75) - df[variable].quantile(0.25)\n",
    "    LI = df[variable].quantile(0.25) - (IQR*factor)\n",
    "    LS = df[variable].quantile(0.75) + (IQR*factor)\n",
    "    \n",
    "    df[variable] = np.where(df[variable] > LS, LS,\n",
    "                                          np.where(df[variable] < LI, LI, df[variable])) "
   ]
  },
  {
   "cell_type": "markdown",
   "id": "32d64f85-4796-4b96-a439-0fb85a8fb5fd",
   "metadata": {},
   "source": [
    "## Tipos de variables"
   ]
  },
  {
   "cell_type": "code",
   "execution_count": 14,
   "id": "b3459d3b-b899-47f8-b2ff-1737bf99c419",
   "metadata": {},
   "outputs": [
    {
     "data": {
      "text/plain": [
       "Id                 int64\n",
       "MSSubClass         int64\n",
       "MSZoning          object\n",
       "LotFrontage      float64\n",
       "LotArea            int64\n",
       "                  ...   \n",
       "MoSold             int64\n",
       "YrSold             int64\n",
       "SaleType          object\n",
       "SaleCondition     object\n",
       "SalePrice          int64\n",
       "Length: 81, dtype: object"
      ]
     },
     "execution_count": 14,
     "metadata": {},
     "output_type": "execute_result"
    }
   ],
   "source": [
    "dataset.dtypes"
   ]
  },
  {
   "cell_type": "code",
   "execution_count": 15,
   "id": "5a43ce2d-bc1d-4a4d-9b0c-643a438d8a93",
   "metadata": {},
   "outputs": [
    {
     "data": {
      "text/plain": [
       "LotFrontage     float64\n",
       "Alley            object\n",
       "MasVnrType       object\n",
       "MasVnrArea      float64\n",
       "BsmtQual         object\n",
       "BsmtCond         object\n",
       "BsmtExposure     object\n",
       "BsmtFinType1     object\n",
       "BsmtFinType2     object\n",
       "Electrical       object\n",
       "FireplaceQu      object\n",
       "GarageType       object\n",
       "GarageYrBlt     float64\n",
       "GarageFinish     object\n",
       "GarageQual       object\n",
       "GarageCond       object\n",
       "PoolQC           object\n",
       "Fence            object\n",
       "MiscFeature      object\n",
       "dtype: object"
      ]
     },
     "execution_count": 15,
     "metadata": {},
     "output_type": "execute_result"
    }
   ],
   "source": [
    "columnasConNaN = GetNanColumnsNames(dataset)\n",
    "dataset[columnasConNaN].dtypes"
   ]
  },
  {
   "cell_type": "code",
   "execution_count": 23,
   "id": "fe2f9d28-79ae-47dd-9f83-f1d3fadd5462",
   "metadata": {},
   "outputs": [
    {
     "data": {
      "text/plain": [
       "['Id',\n",
       " 'LotFrontage',\n",
       " 'LotArea',\n",
       " 'YearBuilt',\n",
       " 'YearRemodAdd',\n",
       " 'MasVnrArea',\n",
       " 'BsmtFinSF1',\n",
       " 'BsmtFinSF2',\n",
       " 'BsmtUnfSF',\n",
       " 'TotalBsmtSF',\n",
       " '1stFlrSF',\n",
       " '2ndFlrSF',\n",
       " 'GrLivArea',\n",
       " 'GarageYrBlt',\n",
       " 'GarageArea',\n",
       " 'WoodDeckSF',\n",
       " 'OpenPorchSF',\n",
       " 'EnclosedPorch',\n",
       " 'ScreenPorch',\n",
       " 'SalePrice']"
      ]
     },
     "execution_count": 23,
     "metadata": {},
     "output_type": "execute_result"
    }
   ],
   "source": [
    "columnasContinuas = GetContinuesColumns(dataset)\n",
    "columnasContinuas"
   ]
  },
  {
   "cell_type": "code",
   "execution_count": 20,
   "id": "18f4adb3-a6ae-4183-a888-d1333c26f188",
   "metadata": {},
   "outputs": [
    {
     "data": {
      "text/plain": [
       "['MSZoning',\n",
       " 'Street',\n",
       " 'Alley',\n",
       " 'LotShape',\n",
       " 'LandContour',\n",
       " 'Utilities',\n",
       " 'LotConfig',\n",
       " 'LandSlope',\n",
       " 'Neighborhood',\n",
       " 'Condition1',\n",
       " 'Condition2',\n",
       " 'BldgType',\n",
       " 'HouseStyle',\n",
       " 'RoofStyle',\n",
       " 'RoofMatl',\n",
       " 'Exterior1st',\n",
       " 'Exterior2nd',\n",
       " 'MasVnrType',\n",
       " 'ExterQual',\n",
       " 'ExterCond',\n",
       " 'Foundation',\n",
       " 'BsmtQual',\n",
       " 'BsmtCond',\n",
       " 'BsmtExposure',\n",
       " 'BsmtFinType1',\n",
       " 'BsmtFinType2',\n",
       " 'Heating',\n",
       " 'HeatingQC',\n",
       " 'CentralAir',\n",
       " 'Electrical',\n",
       " 'KitchenQual',\n",
       " 'Functional',\n",
       " 'FireplaceQu',\n",
       " 'GarageType',\n",
       " 'GarageFinish',\n",
       " 'GarageQual',\n",
       " 'GarageCond',\n",
       " 'PavedDrive',\n",
       " 'PoolQC',\n",
       " 'Fence',\n",
       " 'MiscFeature',\n",
       " 'SaleType',\n",
       " 'SaleCondition']"
      ]
     },
     "execution_count": 20,
     "metadata": {},
     "output_type": "execute_result"
    }
   ],
   "source": [
    "columnasCategorias = GetCategoricalColumns(dataset)\n",
    "columnasCategorias"
   ]
  },
  {
   "cell_type": "code",
   "execution_count": 26,
   "id": "8415ddf5-7024-45b5-b66c-3e5c74a9d41c",
   "metadata": {},
   "outputs": [
    {
     "data": {
      "text/plain": [
       "['Id',\n",
       " 'MSSubClass',\n",
       " 'LotFrontage',\n",
       " 'LotArea',\n",
       " 'OverallQual',\n",
       " 'OverallCond',\n",
       " 'YearBuilt',\n",
       " 'YearRemodAdd',\n",
       " 'MasVnrArea',\n",
       " 'BsmtFinSF1',\n",
       " 'BsmtFinSF2',\n",
       " 'BsmtUnfSF',\n",
       " 'TotalBsmtSF',\n",
       " '1stFlrSF',\n",
       " '2ndFlrSF',\n",
       " 'LowQualFinSF',\n",
       " 'GrLivArea',\n",
       " 'BsmtFullBath',\n",
       " 'BsmtHalfBath',\n",
       " 'FullBath',\n",
       " 'HalfBath',\n",
       " 'BedroomAbvGr',\n",
       " 'KitchenAbvGr',\n",
       " 'TotRmsAbvGrd',\n",
       " 'Fireplaces',\n",
       " 'GarageYrBlt',\n",
       " 'GarageCars',\n",
       " 'GarageArea',\n",
       " 'WoodDeckSF',\n",
       " 'OpenPorchSF',\n",
       " 'EnclosedPorch',\n",
       " '3SsnPorch',\n",
       " 'ScreenPorch',\n",
       " 'PoolArea',\n",
       " 'MiscVal',\n",
       " 'MoSold',\n",
       " 'YrSold',\n",
       " 'SalePrice']"
      ]
     },
     "execution_count": 26,
     "metadata": {},
     "output_type": "execute_result"
    }
   ],
   "source": [
    "columnasNumericas = GetNumericColumnsNames(dataset)\n",
    "columnasNumericas"
   ]
  },
  {
   "cell_type": "markdown",
   "id": "d28f718d-55a3-4e2b-8b27-3e76c51f8375",
   "metadata": {},
   "source": [
    "## Imputación De Variables"
   ]
  },
  {
   "cell_type": "code",
   "execution_count": 81,
   "id": "aeadd2e1-014d-4ce3-83b4-e8e2e6af1295",
   "metadata": {},
   "outputs": [
    {
     "data": {
      "text/plain": [
       "['Id',\n",
       " 'MSSubClass',\n",
       " 'MSZoning',\n",
       " 'LotFrontage',\n",
       " 'LotArea',\n",
       " 'Street',\n",
       " 'LotShape',\n",
       " 'LandContour',\n",
       " 'Utilities',\n",
       " 'LotConfig',\n",
       " 'LandSlope',\n",
       " 'Neighborhood',\n",
       " 'Condition1',\n",
       " 'Condition2',\n",
       " 'BldgType',\n",
       " 'HouseStyle',\n",
       " 'OverallQual',\n",
       " 'OverallCond',\n",
       " 'YearBuilt',\n",
       " 'YearRemodAdd',\n",
       " 'RoofStyle',\n",
       " 'RoofMatl',\n",
       " 'Exterior1st',\n",
       " 'Exterior2nd',\n",
       " 'MasVnrType',\n",
       " 'MasVnrArea',\n",
       " 'ExterQual',\n",
       " 'ExterCond',\n",
       " 'Foundation',\n",
       " 'BsmtQual',\n",
       " 'BsmtCond',\n",
       " 'BsmtExposure',\n",
       " 'BsmtFinType1',\n",
       " 'BsmtFinSF1',\n",
       " 'BsmtFinType2',\n",
       " 'BsmtFinSF2',\n",
       " 'BsmtUnfSF',\n",
       " 'TotalBsmtSF',\n",
       " 'Heating',\n",
       " 'HeatingQC',\n",
       " 'CentralAir',\n",
       " 'Electrical',\n",
       " '1stFlrSF',\n",
       " '2ndFlrSF',\n",
       " 'LowQualFinSF',\n",
       " 'GrLivArea',\n",
       " 'BsmtFullBath',\n",
       " 'BsmtHalfBath',\n",
       " 'FullBath',\n",
       " 'HalfBath',\n",
       " 'BedroomAbvGr',\n",
       " 'KitchenAbvGr',\n",
       " 'KitchenQual',\n",
       " 'TotRmsAbvGrd',\n",
       " 'Functional',\n",
       " 'Fireplaces',\n",
       " 'GarageType',\n",
       " 'GarageYrBlt',\n",
       " 'GarageFinish',\n",
       " 'GarageCars',\n",
       " 'GarageArea',\n",
       " 'GarageQual',\n",
       " 'GarageCond',\n",
       " 'PavedDrive',\n",
       " 'WoodDeckSF',\n",
       " 'OpenPorchSF',\n",
       " 'EnclosedPorch',\n",
       " '3SsnPorch',\n",
       " 'ScreenPorch',\n",
       " 'PoolArea',\n",
       " 'MiscVal',\n",
       " 'MoSold',\n",
       " 'YrSold',\n",
       " 'SaleType',\n",
       " 'SaleCondition',\n",
       " 'SalePrice']"
      ]
     },
     "execution_count": 81,
     "metadata": {},
     "output_type": "execute_result"
    }
   ],
   "source": [
    "columnasCCA = GetNanGoodColumnsNames(dataset)\n",
    "columnasCCA "
   ]
  },
  {
   "cell_type": "code",
   "execution_count": 82,
   "id": "48b2837a-5c54-45f6-953a-24c421901cd7",
   "metadata": {},
   "outputs": [
    {
     "data": {
      "text/plain": [
       "['Id',\n",
       " 'MSSubClass',\n",
       " 'MSZoning',\n",
       " 'LotFrontage',\n",
       " 'LotArea',\n",
       " 'Street',\n",
       " 'LotShape',\n",
       " 'LandContour',\n",
       " 'Utilities',\n",
       " 'LotConfig',\n",
       " 'LandSlope',\n",
       " 'Neighborhood',\n",
       " 'Condition1',\n",
       " 'Condition2',\n",
       " 'BldgType',\n",
       " 'HouseStyle',\n",
       " 'OverallQual',\n",
       " 'OverallCond',\n",
       " 'YearBuilt',\n",
       " 'YearRemodAdd',\n",
       " 'RoofStyle',\n",
       " 'RoofMatl',\n",
       " 'Exterior1st',\n",
       " 'Exterior2nd',\n",
       " 'MasVnrType',\n",
       " 'MasVnrArea',\n",
       " 'ExterQual',\n",
       " 'ExterCond',\n",
       " 'Foundation',\n",
       " 'BsmtQual',\n",
       " 'BsmtCond',\n",
       " 'BsmtExposure',\n",
       " 'BsmtFinType1',\n",
       " 'BsmtFinSF1',\n",
       " 'BsmtFinType2',\n",
       " 'BsmtFinSF2',\n",
       " 'BsmtUnfSF',\n",
       " 'TotalBsmtSF',\n",
       " 'Heating',\n",
       " 'HeatingQC',\n",
       " 'CentralAir',\n",
       " 'Electrical',\n",
       " '1stFlrSF',\n",
       " '2ndFlrSF',\n",
       " 'LowQualFinSF',\n",
       " 'GrLivArea',\n",
       " 'BsmtFullBath',\n",
       " 'BsmtHalfBath',\n",
       " 'FullBath',\n",
       " 'HalfBath',\n",
       " 'BedroomAbvGr',\n",
       " 'KitchenAbvGr',\n",
       " 'KitchenQual',\n",
       " 'TotRmsAbvGrd',\n",
       " 'Functional',\n",
       " 'Fireplaces',\n",
       " 'GarageType',\n",
       " 'GarageYrBlt',\n",
       " 'GarageFinish',\n",
       " 'GarageCars',\n",
       " 'GarageArea',\n",
       " 'GarageQual',\n",
       " 'GarageCond',\n",
       " 'PavedDrive',\n",
       " 'WoodDeckSF',\n",
       " 'OpenPorchSF',\n",
       " 'EnclosedPorch',\n",
       " '3SsnPorch',\n",
       " 'ScreenPorch',\n",
       " 'PoolArea',\n",
       " 'MiscVal',\n",
       " 'MoSold',\n",
       " 'YrSold',\n",
       " 'SaleType',\n",
       " 'SaleCondition',\n",
       " 'SalePrice']"
      ]
     },
     "execution_count": 82,
     "metadata": {},
     "output_type": "execute_result"
    }
   ],
   "source": [
    "dataset = dataset[columnasCCA].dropna()\n",
    "GetNanGoodColumnsNames(dataset)"
   ]
  },
  {
   "cell_type": "code",
   "execution_count": 83,
   "id": "34aa5a30-a164-447e-9fd9-e475dc940d30",
   "metadata": {},
   "outputs": [],
   "source": [
    "columnasNumericasConNaN = GetNanColumnsNames(dataset[columnasNumericas])\n",
    "\n",
    "for columna in columnasNumericasConNaN:\n",
    "    ImputacionPorMediaOMediana(dataset, columna, \"SalePrice\")"
   ]
  },
  {
   "cell_type": "code",
   "execution_count": 72,
   "id": "3f1932ef-1bc1-4d57-8b64-2a08921c22ca",
   "metadata": {},
   "outputs": [
    {
     "data": {
      "text/plain": [
       "[]"
      ]
     },
     "execution_count": 72,
     "metadata": {},
     "output_type": "execute_result"
    }
   ],
   "source": [
    "GetNanColumnsNames(dataset[columnasNumericas])"
   ]
  },
  {
   "cell_type": "code",
   "execution_count": 85,
   "id": "1ffb6d63-2b2b-40c5-b1c4-5787338bab79",
   "metadata": {},
   "outputs": [],
   "source": [
    "dataset[\"BsmtQual\"].fillna(\"Missing\", inplace = True)\n"
   ]
  },
  {
   "cell_type": "code",
   "execution_count": null,
   "id": "d9f614f8-9b57-4c71-8742-9f447540e9e3",
   "metadata": {},
   "outputs": [],
   "source": []
  }
 ],
 "metadata": {
  "kernelspec": {
   "display_name": "Python 3 (ipykernel)",
   "language": "python",
   "name": "python3"
  },
  "language_info": {
   "codemirror_mode": {
    "name": "ipython",
    "version": 3
   },
   "file_extension": ".py",
   "mimetype": "text/x-python",
   "name": "python",
   "nbconvert_exporter": "python",
   "pygments_lexer": "ipython3",
   "version": "3.9.7"
  }
 },
 "nbformat": 4,
 "nbformat_minor": 5
}
